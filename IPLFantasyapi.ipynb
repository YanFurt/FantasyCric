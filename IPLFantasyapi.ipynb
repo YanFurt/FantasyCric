{
 "cells": [
  {
   "cell_type": "code",
   "execution_count": 1,
   "metadata": {},
   "outputs": [],
   "source": [
    "import numpy as np\n",
    "import pandas as pd\n",
    "import requests\n",
    "import json\n",
    "\n",
    "key = '*******' #use your key"
   ]
  },
  {
   "cell_type": "code",
   "execution_count": 2,
   "metadata": {},
   "outputs": [],
   "source": [
    "# https://cricapi.com/api/fantasySquad\n",
    "# https://cricapi.com/api/playerFinder\n",
    "# https://cricapi.com/api/cricketScore - live score\n",
    "# https://cricapi.com/api/fantasySummary - final score card\n"
   ]
  },
  {
   "cell_type": "code",
   "execution_count": 3,
   "metadata": {},
   "outputs": [],
   "source": [
    "uidd = {'2021-04-09': [1254058], '2021-04-10': [1254059], '2021-04-11': [1254060], '2021-04-12': [1254061], '2021-04-13': [1254062], '2021-04-14': [1254063], '2021-04-15': [1254064], '2021-04-16': [1254065], '2021-04-17': [1254066], '2021-04-18': [1254068, 1254067], '2021-04-19': [1254069], '2021-04-20': [1254070], '2021-04-21': [1254072, 1254071], '2021-04-22': [1254073], '2021-04-23': [1254074], '2021-04-24': [1254075], '2021-04-25': [1254077, 1254076], '2021-04-26': [1254078], '2021-04-27': [1254079], '2021-04-28': [1254080], '2021-04-29': [1254082, 1254081], '2021-04-30': [1254083], '2021-05-01': [1254084], '2021-05-02': [1254086, 1254085], '2021-05-03': [1254087], '2021-05-04': [1254088],\n",
    " '2021-05-05': [1254089], '2021-05-06': [1254090], '2021-05-07': [1254091], '2021-05-08': [1254093, 1254092], '2021-05-09': [1254095, 1254094], '2021-05-10': [1254096], '2021-05-11': [1254097], '2021-05-12': [1254098], '2021-05-13': [1254100, 1254099], '2021-05-14': [1254101], '2021-05-15': [1254102], '2021-05-16': [1254104, 1254103], '2021-05-17': [1254105], '2021-05-18': [1254106], '2021-05-19': [1254107], '2021-05-20': [1254108], '2021-05-21': [1254110, 1254109], '2021-05-22': [1254111], '2021-05-23': [1254113, 1254112]}"
   ]
  },
  {
   "cell_type": "code",
   "execution_count": 4,
   "metadata": {},
   "outputs": [],
   "source": [
    "captains= {'422108': 2,'379143': 1.5, '308967': 2, '297433': 1.5, '931581': 2, '44936': 1.5, '793463': 2,'326016':2,\n",
    "'422108': 2, '26421': 1.5, '34102': 2, '219889': 1.5, '1070173': 2, '439952': 1.5,'446507':2,'550215':1.5,'253802':1.5}"
   ]
  },
  {
   "cell_type": "code",
   "execution_count": 5,
   "metadata": {},
   "outputs": [],
   "source": [
    "# Points per contribution\n",
    "pts = {'R':1,'4s':1,'6s':2,'W':20,'M':20,'0s':1,'Cen':8,'Half-Cen':4,'4W':8,'5W':16,'catch':8,'stumped':12,'runout':6}\n",
    "eco = {0:6, 5 : 4, 6 : 2, 7 : 0, 10:-2 , 11:-4, 12 : -6}"
   ]
  },
  {
   "cell_type": "code",
   "execution_count": 28,
   "metadata": {},
   "outputs": [],
   "source": [
    "score = pd.read_excel('IPLScore2021.xlsx',sheet_name='Points',header = 0, index_col=0)\n",
    "score.index = score.index.astype('str')\n",
    "\n",
    "awards = pd.read_excel('IPLScore2021.xlsx',sheet_name='Awards',header = 0, index_col=0)\n",
    "awards.index = awards.index.astype('str')\n",
    "\n",
    "\n"
   ]
  },
  {
   "cell_type": "code",
   "execution_count": 7,
   "metadata": {},
   "outputs": [],
   "source": [
    "def upmr(ID, df2):\n",
    "    '''Registers players who played current match and updates number of matches remaining'''\n",
    "    MICSK = requests.get('https://cricapi.com/api/fantasySquad', params = {'apikey':key, 'unique_id':ID})\n",
    "    mc = MICSK.json()\n",
    "    \n",
    "    for i in mc['squad']:\n",
    "        for j in i['players']:\n",
    "            if str(j['pid']) in df2.index:\n",
    "                df2.loc[str(j['pid']),'ML'] -= 1\n",
    "                \n",
    "    #return mc            \n",
    "             \n",
    "            \n",
    "    \n",
    "    \n",
    "    "
   ]
  },
  {
   "cell_type": "code",
   "execution_count": 8,
   "metadata": {},
   "outputs": [],
   "source": [
    "def getpid(t1,t2):\n",
    "    '''extracts list of player IDs of players involved in match'''\n",
    "    pid = []\n",
    "    for i in (t1+t2):\n",
    "        pid.append(pidic.get(i))\n",
    "    print(pid)    \n",
    "    return pid    "
   ]
  },
  {
   "cell_type": "code",
   "execution_count": 9,
   "metadata": {},
   "outputs": [],
   "source": [
    "def getscore(ID):\n",
    "    MICSK = requests.get('https://cricapi.com/api/fantasySummary', params = {'apikey':key, 'unique_id':ID})\n",
    "    mc = MICSK.json()\n",
    "    \n",
    "    return mc"
   ]
  },
  {
   "cell_type": "code",
   "execution_count": null,
   "metadata": {},
   "outputs": [],
   "source": []
  },
  {
   "cell_type": "code",
   "execution_count": 10,
   "metadata": {},
   "outputs": [],
   "source": [
    "def update(df2,df3, mc):\n",
    "    for i in mc['data']['team']:\n",
    "        for j in i['players']:\n",
    "            if str(j['pid']) in df2.index:\n",
    "                df2.loc[str(j['pid']),'total_score'] += 4*captains.get(str(j['pid']),1)\n",
    "                df2.loc[str(j['pid']),'Round_'+str(14-df2.loc[str(j['pid']),'ML'])] += 4\n",
    "            \n",
    "            \n",
    "            \n",
    "    \n",
    "    for i in mc['data']['fielding']:\n",
    "        for j in i['scores']:\n",
    "            if str(j['pid']) in df2.index:\n",
    "                score = 0\n",
    "                for k in ['stumped','catch','runout']:\n",
    "                    score +=  pts[k]*j[k]\n",
    "            \n",
    "                df2.loc[str(j['pid']),'total_score'] += score*captains.get(str(j['pid']),1)\n",
    "                \n",
    "                df2.loc[str(j['pid']),'Round_'+str(14-df2.loc[str(j['pid']),'ML'])] += score\n",
    "                df3.loc[str(j['pid']),'Catches'] += j['catch']\n",
    "            \n",
    "    for i in mc['data']['batting']:\n",
    "        for j in i['scores']:\n",
    "            if str(j['pid']) in df2.index:\n",
    "                score = 0\n",
    "                for k in ['R','4s','6s']:\n",
    "                    score += pts[k]*j[k]\n",
    "                \n",
    "                if df2.loc[i,'Role'] != 'b':\n",
    "                    if bat.loc['Runs'] == 0 and j['dismissal-info'] != 'not out':\n",
    "                        score -= 2\n",
    "           \n",
    "                    \n",
    "                if j['R'] >=100:\n",
    "                    score += 16\n",
    "                elif j['R'] >= 50:\n",
    "                    score += 8\n",
    "                elif j['R'] >= 30:\n",
    "                    score += 4\n",
    "                \n",
    "                if df2.loc[str(j['pid']),'Role'] != 'b':\n",
    "                    if j['B'] >=10:\n",
    "                        if (j['SR'] <= 50): score -= 6\n",
    "                        elif (j['SR'] <= 70): score -= 4\n",
    "                        elif(j['SR'] <= 90): score -= 2\n",
    "                        elif(j['SR'] > 180): score += 6\n",
    "                        elif(j['SR'] > 150): score += 4\n",
    "                        elif(j['SR'] > 130): score += 2 \n",
    "                \n",
    "                df2.loc[str(j['pid']),'total_score'] += score*captains.get(str(j['pid']),1)\n",
    "                df2.loc[str(j['pid']),'Round_'+str(14-df2.loc[str(j['pid']),'ML'])] += score\n",
    "                df3.loc[str(j['pid']),'Runs'] += j['R']\n",
    "                df3.loc[str(j['pid']),'Sixes'] += j['6s']\n",
    "                try:\n",
    "                    if j['dismissal']== 'runout' and len(j['dismissal-by'])==1:\n",
    "                        df2.loc[j['dismissal-by'][0]['pid'],'total_score'] += 6*captains.get(j['dismissal-by'][0]['pid'],1)\n",
    "                        df2.loc[j['dismissal-by'][0]['pid'],'Round_'+str(14-df2.loc[j['dismissal-by'][0]['pid'],'ML'])] += 6\n",
    "                except:\n",
    "                    pass\n",
    "                \n",
    "                \n",
    "                \n",
    "                \n",
    "                \n",
    "    for i in mc['data']['bowling']:\n",
    "        for j in i['scores']:\n",
    "            if str(j['pid']) in df2.index:\n",
    "                score = 0\n",
    "                for k in ['M','W','0s']:\n",
    "                    score += pts[k]*int(j.get(k,0))\n",
    "                if int(j.get('W',0)) >= 5:\n",
    "                    score += 16\n",
    "                elif int(j.get('W',0)) == 4:\n",
    "                    score += 8\n",
    "                elif int(j.get('W',0)) == 3:\n",
    "                    score += 4\n",
    "                  \n",
    "                \n",
    "                try:\n",
    "                    \n",
    "                    if float(j['O']) >= 2:\n",
    "                        for i in sorted(eco.keys(),reverse=True):\n",
    "                                if float(j['Econ']) > i:\n",
    "                                    score += eco[i]\n",
    "                                    break\n",
    "                except:\n",
    "                    pass\n",
    "                            \n",
    "                   \n",
    "                df2.loc[str(j['pid']),'total_score'] += score*captains.get(str(j['pid']),1)\n",
    "                df2.loc[str(j['pid']),'Round_'+str(14-df2.loc[str(j['pid']),'ML'])] += score\n",
    "                df3.loc[str(j['pid']),'Wickets'] += int(j.get('W',0))\n",
    "                df3.loc[str(j['pid']),'Dots'] += int(j.get('0s',0))\n",
    "                        \n",
    "    \n",
    "    "
   ]
  },
  {
   "cell_type": "code",
   "execution_count": 11,
   "metadata": {},
   "outputs": [],
   "source": [
    "def gp(series):\n",
    "    if sum(series != 0) ==0:\n",
    "        return 0\n",
    "    else:\n",
    "        return sum(series)/sum(series != 0)\n",
    "\n",
    "def pp(series):\n",
    "    return sum(series != 0)"
   ]
  },
  {
   "cell_type": "code",
   "execution_count": 12,
   "metadata": {},
   "outputs": [],
   "source": [
    "def gpp(df2):\n",
    "    r =df2.groupby('Team')\n",
    "    return r.total_score.sum()/(252 - r.ML.sum())"
   ]
  },
  {
   "cell_type": "code",
   "execution_count": 40,
   "metadata": {},
   "outputs": [],
   "source": [
    "ID = uidd[pd.datetime.now().strftime('%Y-%m-%d')][0]"
   ]
  },
  {
   "cell_type": "code",
   "execution_count": 41,
   "metadata": {},
   "outputs": [],
   "source": [
    "live = score.copy()\n",
    "liveaw = awards.copy()\n",
    "upmr(ID,live)"
   ]
  },
  {
   "cell_type": "code",
   "execution_count": 46,
   "metadata": {},
   "outputs": [],
   "source": [
    "b = getscore(ID)"
   ]
  },
  {
   "cell_type": "code",
   "execution_count": 47,
   "metadata": {
    "scrolled": true
   },
   "outputs": [],
   "source": [
    "live['total_score'] = 0\n",
    "liveaw = awards.copy()\n",
    "#live['bowler'] = score.bowler\n",
    "update(live,liveaw,b)"
   ]
  },
  {
   "cell_type": "code",
   "execution_count": 35,
   "metadata": {},
   "outputs": [],
   "source": [
    "upmr(ID, score)\n",
    "update(score,awards, b)"
   ]
  },
  {
   "cell_type": "code",
   "execution_count": 37,
   "metadata": {},
   "outputs": [],
   "source": [
    "league = score.groupby('Team').agg(POINTS = ('total_score',np.sum)).sort_values('POINTS',ascending=False)\n",
    "orange = awards.groupby('Team').agg(RUNS = ('Runs',np.sum)).sort_values('RUNS',ascending=False)\n",
    "purple = awards.groupby('Team').agg(WICKETS = ('Wickets',np.sum)).sort_values('WICKETS',ascending=False)\n",
    "dotted = awards.groupby('Team').agg(DOTS = ('Dots',np.sum)).sort_values('DOTS',ascending=False)\n",
    "rocket = awards.groupby('Team').agg(SIXES = ('Sixes',np.sum)).sort_values('SIXES',ascending=False)\n",
    "bucket = awards.groupby('Team').agg(CATCHES = ('Catches',np.sum)).sort_values('CATCHES',ascending=False)"
   ]
  },
  {
   "cell_type": "code",
   "execution_count": 1,
   "metadata": {},
   "outputs": [],
   "source": [
    "\n",
    "\n",
    "with pd.ExcelWriter('IPLScore2021.xlsx') as ex:\n",
    "    score.to_excel(ex, sheet_name='Points')\n",
    "    awards.to_excel(ex, sheet_name='Awards')\n",
    "\n"
   ]
  },
  {
   "cell_type": "code",
   "execution_count": 115,
   "metadata": {},
   "outputs": [],
   "source": [
    "score.to_csv('IPL2021/score.csv',index=False,columns=score.columns[:-1])\n",
    "awards.to_csv('IPL2021/awards.csv',index=False)"
   ]
  }
 ],
 "metadata": {
  "kernelspec": {
   "display_name": "Python 3",
   "language": "python",
   "name": "python3"
  },
  "language_info": {
   "codemirror_mode": {
    "name": "ipython",
    "version": 3
   },
   "file_extension": ".py",
   "mimetype": "text/x-python",
   "name": "python",
   "nbconvert_exporter": "python",
   "pygments_lexer": "ipython3",
   "version": "3.7.4"
  }
 },
 "nbformat": 4,
 "nbformat_minor": 2
}
